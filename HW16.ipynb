{
 "cells": [
  {
   "cell_type": "code",
   "execution_count": 3,
   "id": "838a0b12-04fc-48e3-925f-7cdc73e11116",
   "metadata": {},
   "outputs": [
    {
     "name": "stdout",
     "output_type": "stream",
     "text": [
      "Recommended lengths to cut the rod: [2, 6]\n",
      "Maximum revenue that can be obtained: 22\n"
     ]
    }
   ],
   "source": [
    "def rod_cut(a, prices):\n",
    "    # Validate the input parameters\n",
    "    if a <= 0:\n",
    "        raise ValueError(\"Rod length must be a positive integer.\")\n",
    "    if not prices or len(prices) < a:\n",
    "        raise ValueError(\"Prices list must contain at least as many prices as rod length.\")\n",
    "\n",
    "    # Initialize dp array to keep track of maximum profit for each rod length\n",
    "    dp = [0] * (a + 1)\n",
    "    cuts = [0] * (a + 1)\n",
    "\n",
    "    # Dynamic Programming to fill dp and cuts arrays\n",
    "    for b in range(1, a + 1):\n",
    "        max_val = float('-inf')  # Start with negative infinity for comparison\n",
    "        for c in range(1, b + 1):\n",
    "            if c <= len(prices):\n",
    "                current_val = prices[c - 1] + dp[b - c]\n",
    "                if current_val > max_val:\n",
    "                    max_val = current_val\n",
    "                    cuts[b] = c  # Record the length of the cut for optimal profit\n",
    "        dp[b] = max_val\n",
    "\n",
    "    # Backtrack to find the optimal lengths of pieces\n",
    "    result_lengths = []\n",
    "    remaining = a\n",
    "    while remaining > 0:\n",
    "        result_lengths.append(cuts[remaining])\n",
    "        remaining -= cuts[remaining]\n",
    "\n",
    "    return result_lengths, dp[a]\n",
    "\n",
    "# Example usage\n",
    "a = 8\n",
    "prices = [1, 5, 8, 9, 10, 17, 17, 20]\n",
    "\n",
    "try:\n",
    "    lengths, max_value = rod_cut(a, prices)\n",
    "    print(\"Recommended lengths to cut the rod:\", lengths)\n",
    "    print(\"Maximum revenue that can be obtained:\", max_value)\n",
    "except ValueError as e:\n",
    "    print(\"Error:\", e)"
   ]
  },
  {
   "cell_type": "code",
   "execution_count": null,
   "id": "4438a4ea-e4e3-4301-91dc-784d4b31178c",
   "metadata": {},
   "outputs": [],
   "source": []
  }
 ],
 "metadata": {
  "kernelspec": {
   "display_name": "Python 3 (ipykernel)",
   "language": "python",
   "name": "python3"
  },
  "language_info": {
   "codemirror_mode": {
    "name": "ipython",
    "version": 3
   },
   "file_extension": ".py",
   "mimetype": "text/x-python",
   "name": "python",
   "nbconvert_exporter": "python",
   "pygments_lexer": "ipython3",
   "version": "3.12.7"
  }
 },
 "nbformat": 4,
 "nbformat_minor": 5
}
