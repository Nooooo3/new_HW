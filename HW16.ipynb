{
 "cells": [
  {
   "cell_type": "code",
   "execution_count": 1,
   "id": "838a0b12-04fc-48e3-925f-7cdc73e11116",
   "metadata": {},
   "outputs": [
    {
     "name": "stdout",
     "output_type": "stream",
     "text": [
      "I recommend this lengths: [2, 6]\n",
      "I think this will be max value: 22\n"
     ]
    }
   ],
   "source": [
    "def rod_cut(a, prices):\n",
    "    dp = [0] * (a + 1)\n",
    "    cuts = [0] * (a + 1)\n",
    "    \n",
    "    for b in range(1, a + 1):\n",
    "        max_val = -1\n",
    "        for c in range(1, b + 1):\n",
    "            if c <= len(prices):\n",
    "                current_val = prices[c-1] + dp[b - c]\n",
    "                if current_val > max_val:\n",
    "                    max_val = current_val\n",
    "                    cuts[b] = c\n",
    "        dp[b] = max_val\n",
    "    \n",
    "    result_lengths = []\n",
    "    remaining = a\n",
    "    while remaining > 0:\n",
    "        result_lengths.append(cuts[remaining])\n",
    "        remaining -= cuts[remaining]\n",
    "    \n",
    "    return result_lengths, dp[a]\n",
    "\n",
    "a = 8\n",
    "prices = [1, 5, 8, 9, 10, 17, 17, 20]\n",
    "\n",
    "lengths, max_value = rod_cut(a, prices)\n",
    "print(\"I recommend this lengths:\", lengths)\n",
    "print(\"I think this will be max value:\", max_value)"
   ]
  },
  {
   "cell_type": "code",
   "execution_count": null,
   "id": "4438a4ea-e4e3-4301-91dc-784d4b31178c",
   "metadata": {},
   "outputs": [],
   "source": []
  }
 ],
 "metadata": {
  "kernelspec": {
   "display_name": "Python 3 (ipykernel)",
   "language": "python",
   "name": "python3"
  },
  "language_info": {
   "codemirror_mode": {
    "name": "ipython",
    "version": 3
   },
   "file_extension": ".py",
   "mimetype": "text/x-python",
   "name": "python",
   "nbconvert_exporter": "python",
   "pygments_lexer": "ipython3",
   "version": "3.12.7"
  }
 },
 "nbformat": 4,
 "nbformat_minor": 5
}
